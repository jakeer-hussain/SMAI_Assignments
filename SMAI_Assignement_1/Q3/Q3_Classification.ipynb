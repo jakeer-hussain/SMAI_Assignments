{
 "cells": [
  {
   "cell_type": "code",
   "execution_count": 2,
   "metadata": {},
   "outputs": [],
   "source": [
    "import torch\n",
    "import numpy as np\n",
    "\n",
    "def load_and_print_embeddings(file_path):\n",
    "    data = torch.load(file_path).cpu().numpy()\n",
    "    return data"
   ]
  },
  {
   "cell_type": "code",
   "execution_count": 3,
   "metadata": {},
   "outputs": [],
   "source": [
    "def euclidean_distance(test_sample, train_sample):\n",
    "    squared_sum = np.sum((test_sample - train_sample) ** 2)\n",
    "    return np.sqrt(squared_sum)\n",
    "\n",
    "def Cosine_distance(test_sample, train_sample):\n",
    "    dot_product = np.dot(test_sample, train_sample)\n",
    "\n",
    "    norm_text = np.linalg.norm(test_sample)\n",
    "    norm_train = np.linalg.norm(train_sample)\n",
    "    \n",
    "    if norm_text == 0 or norm_train == 0:\n",
    "        return 1.0\n",
    "\n",
    "    cosine_similarity = dot_product / (norm_text * norm_train)\n",
    "    \n",
    "    cosine_distance = 1 - cosine_similarity\n",
    "    return cosine_distance"
   ]
  },
  {
   "cell_type": "code",
   "execution_count": 4,
   "metadata": {},
   "outputs": [],
   "source": [
    "train_embeddings = load_and_print_embeddings('SMAI A1-20250202T180732Z-001/SMAI A1/train_embeddings.pth')  # Replace with the actual path to your .pth file\n",
    "test_embeddings = load_and_print_embeddings('SMAI A1-20250202T180732Z-001/SMAI A1/test_embeddings.pth')\n",
    "train_labels = load_and_print_embeddings('SMAI A1-20250202T180732Z-001/SMAI A1/train_labels.pth')\n",
    "test_labels = load_and_print_embeddings('SMAI A1-20250202T180732Z-001/SMAI A1/test_labels.pth')\n",
    "text_embeddings = load_and_print_embeddings('SMAI A1-20250202T180732Z-001/SMAI A1/text_embedding.pth')\n"
   ]
  },
  {
   "cell_type": "code",
   "execution_count": 6,
   "metadata": {},
   "outputs": [],
   "source": [
    "def knn(train_embeddings, train_labels, test_embeddings, k_values, distance_metric):\n",
    "    pred_labels_1 = []\n",
    "    pred_labels_5 = []\n",
    "    pred_labels_10 = []\n",
    "\n",
    "    for test_sample in test_embeddings:\n",
    "        distances_list = []\n",
    "\n",
    "        for idx, train_sample in enumerate(train_embeddings):\n",
    "            if distance_metric == \"euclidean\" :\n",
    "                distance = euclidean_distance(test_sample, train_sample)\n",
    "            elif distance_metric == \"cosine\" :\n",
    "                distance = Cosine_distance(test_sample, train_sample)\n",
    "            distances_list.append((distance, idx))\n",
    "\n",
    "        distances_list.sort(key=lambda x: x[0])\n",
    "\n",
    "        for k in k_values:\n",
    "            knn_indices = []\n",
    "            for i in range(k):\n",
    "                knn_indices.append(distances_list[i][1])\n",
    "\n",
    "            knn_labels = train_labels[knn_indices]\n",
    "\n",
    "            label_counts = {}\n",
    "            for label in knn_labels:\n",
    "                if label in label_counts:\n",
    "                    label_counts[label] += 1\n",
    "                else:\n",
    "                    label_counts[label] = 1\n",
    "\n",
    "            major_label = max(label_counts, key=label_counts.get)\n",
    "\n",
    "            if k == 1:\n",
    "                pred_labels_1.append(major_label)\n",
    "            elif k == 5:\n",
    "                pred_labels_5.append(major_label)\n",
    "            elif k == 10:\n",
    "                pred_labels_10.append(major_label)\n",
    "\n",
    "    return np.array(pred_labels_1), np.array(pred_labels_5), np.array(pred_labels_10)"
   ]
  },
  {
   "cell_type": "code",
   "execution_count": 7,
   "metadata": {},
   "outputs": [],
   "source": [
    "def cal_accuracy(predicted_labels, test_labels):\n",
    "    true_count = 0\n",
    "\n",
    "    for pred, actual in zip(predicted_labels, test_labels):\n",
    "        if pred == actual:\n",
    "            true_count += 1\n",
    "\n",
    "    return true_count/len(test_labels)"
   ]
  },
  {
   "cell_type": "code",
   "execution_count": 8,
   "metadata": {},
   "outputs": [
    {
     "name": "stdout",
     "output_type": "stream",
     "text": [
      "The metric is cosine\n",
      "Accuracy for k=1: 0.9048\n",
      "Accuracy for k=5: 0.9189\n",
      "Accuracy for k=10: 0.9207\n",
      "The metric is euclidean\n",
      "Accuracy for k=1: 0.9048\n",
      "Accuracy for k=5: 0.9190\n",
      "Accuracy for k=10: 0.9207\n"
     ]
    }
   ],
   "source": [
    "k_values = [1, 5, 10]\n",
    "metrics = [\"cosine\", \"euclidean\"]\n",
    "for metric in metrics:\n",
    "    print(f\"The metric is {metric}\")\n",
    "    predicted_labels_1, predicted_labels_5, predicted_labels_10 = knn(train_embeddings, train_labels, test_embeddings, k_values, metric)\n",
    "    accuracy_1 = cal_accuracy(predicted_labels_1, test_labels)\n",
    "    accuracy_5 = cal_accuracy(predicted_labels_5, test_labels)\n",
    "    accuracy_10 = cal_accuracy(predicted_labels_10, test_labels)\n",
    "\n",
    "    print(f\"Accuracy for k=1: {accuracy_1:.4f}\")\n",
    "    print(f\"Accuracy for k=5: {accuracy_5:.4f}\")\n",
    "    print(f\"Accuracy for k=10: {accuracy_10:.4f}\")"
   ]
  },
  {
   "cell_type": "code",
   "execution_count": 9,
   "metadata": {},
   "outputs": [],
   "source": [
    "def knn(text_embeddings, train_labels, test_embeddings, k):\n",
    "\n",
    "    pred_labels = []\n",
    "    for test_sample in test_embeddings:\n",
    "        distances_list = []\n",
    "\n",
    "        for idx, text_sample in enumerate(text_embeddings):\n",
    "            distance = Cosine_distance(test_sample, text_sample)\n",
    "            distances_list.append((distance, idx))\n",
    "\n",
    "        distances_list.sort(key=lambda x: x[0])\n",
    "\n",
    "        nearest_index = distances_list[0][1]\n",
    "\n",
    "        predicted_label = nearest_index\n",
    "\n",
    "        pred_labels.append(predicted_label)\n",
    "\n",
    "    return np.array(pred_labels)"
   ]
  },
  {
   "cell_type": "code",
   "execution_count": 10,
   "metadata": {},
   "outputs": [
    {
     "name": "stdout",
     "output_type": "stream",
     "text": [
      "Accuracy: 0.8781\n"
     ]
    }
   ],
   "source": [
    "predicted_labels = knn(text_embeddings, train_labels, test_embeddings, k=1)\n",
    "\n",
    "final_accuracy = cal_accuracy(predicted_labels, test_labels)\n",
    "\n",
    "print(f\"Accuracy: {final_accuracy:.4f}\")"
   ]
  }
 ],
 "metadata": {
  "kernelspec": {
   "display_name": "usr",
   "language": "python",
   "name": "python3"
  },
  "language_info": {
   "codemirror_mode": {
    "name": "ipython",
    "version": 3
   },
   "file_extension": ".py",
   "mimetype": "text/x-python",
   "name": "python",
   "nbconvert_exporter": "python",
   "pygments_lexer": "ipython3",
   "version": "3.10.12"
  }
 },
 "nbformat": 4,
 "nbformat_minor": 2
}
